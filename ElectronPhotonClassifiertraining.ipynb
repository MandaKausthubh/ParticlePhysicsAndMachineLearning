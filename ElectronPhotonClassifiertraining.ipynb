{
 "cells": [
  {
   "cell_type": "code",
   "execution_count": 1,
   "metadata": {
    "_cell_guid": "b1076dfc-b9ad-4769-8c92-a6c4dae69d19",
    "_uuid": "8f2839f25d086af736a60e9eeb907d3b93b6e0e5",
    "execution": {
     "iopub.execute_input": "2025-01-08T10:24:06.584195Z",
     "iopub.status.busy": "2025-01-08T10:24:06.583890Z",
     "iopub.status.idle": "2025-01-08T10:24:10.993008Z",
     "shell.execute_reply": "2025-01-08T10:24:10.992292Z",
     "shell.execute_reply.started": "2025-01-08T10:24:06.584171Z"
    }
   },
   "outputs": [],
   "source": [
    "import numpy as np\n",
    "import h5py\n",
    "import torch \n",
    "from torch.utils.data import DataLoader, Dataset\n",
    "import torch.nn as nn\n",
    "import torchvision.transforms as transforms"
   ]
  },
  {
   "cell_type": "code",
   "execution_count": 2,
   "metadata": {
    "execution": {
     "iopub.execute_input": "2025-01-08T10:24:10.994342Z",
     "iopub.status.busy": "2025-01-08T10:24:10.993979Z",
     "iopub.status.idle": "2025-01-08T10:24:24.550231Z",
     "shell.execute_reply": "2025-01-08T10:24:24.549498Z",
     "shell.execute_reply.started": "2025-01-08T10:24:10.994319Z"
    }
   },
   "outputs": [
    {
     "data": {
      "text/plain": [
       "((249000, 32, 32, 2), (249000, 32, 32, 2), (249000,), (249000,))"
      ]
     },
     "execution_count": 2,
     "metadata": {},
     "output_type": "execute_result"
    }
   ],
   "source": [
    "with h5py.File('dataset/Electron.hdf5','r') as h5:\n",
    "    ElectronX = h5['X'][:]\n",
    "    ElectronY = h5['y'][:]\n",
    "\n",
    "with h5py.File('Photon.hdf5','r') as h5:\n",
    "    PhotonX = h5['X'][:]\n",
    "    PhotonY = h5['y'][:]\n",
    "\n",
    "ElectronX.shape, PhotonX.shape, ElectronY.shape, PhotonY.shape"
   ]
  },
  {
   "cell_type": "code",
   "execution_count": 3,
   "metadata": {
    "execution": {
     "iopub.execute_input": "2025-01-08T10:24:24.551939Z",
     "iopub.status.busy": "2025-01-08T10:24:24.551711Z",
     "iopub.status.idle": "2025-01-08T10:24:27.140795Z",
     "shell.execute_reply": "2025-01-08T10:24:27.140138Z",
     "shell.execute_reply.started": "2025-01-08T10:24:24.551920Z"
    }
   },
   "outputs": [],
   "source": [
    "X = np.concatenate([ElectronX, PhotonX])\n",
    "Y = np.concatenate([ElectronY, PhotonY])\n",
    "\n",
    "indexes = np.random.permutation(len(X))\n",
    "X = X[indexes]\n",
    "Y = Y[indexes]\n",
    "\n",
    "x_train, x_test = np.split(X, [int(0.8*len(X))])\n",
    "y_train, y_test = np.split(Y, [int(0.8*len(Y))])"
   ]
  },
  {
   "cell_type": "code",
   "execution_count": 4,
   "metadata": {
    "execution": {
     "iopub.execute_input": "2025-01-08T10:24:27.142144Z",
     "iopub.status.busy": "2025-01-08T10:24:27.141833Z",
     "iopub.status.idle": "2025-01-08T10:24:27.148492Z",
     "shell.execute_reply": "2025-01-08T10:24:27.147757Z",
     "shell.execute_reply.started": "2025-01-08T10:24:27.142121Z"
    }
   },
   "outputs": [
    {
     "data": {
      "text/plain": [
       "(0.5004869477911646, 0.49805220883534135)"
      ]
     },
     "execution_count": 4,
     "metadata": {},
     "output_type": "execute_result"
    }
   ],
   "source": [
    "np.sum(y_train == 0) / len(y_train), np.sum(y_test == 0) / len(y_test) "
   ]
  },
  {
   "cell_type": "code",
   "execution_count": 5,
   "metadata": {
    "execution": {
     "iopub.execute_input": "2025-01-08T10:24:27.149498Z",
     "iopub.status.busy": "2025-01-08T10:24:27.149290Z",
     "iopub.status.idle": "2025-01-08T10:24:27.165584Z",
     "shell.execute_reply": "2025-01-08T10:24:27.164829Z",
     "shell.execute_reply.started": "2025-01-08T10:24:27.149467Z"
    }
   },
   "outputs": [],
   "source": [
    "class CustomDataset(Dataset):\n",
    "    def __init__(self, X, Y, transform=None, label_transform = None):\n",
    "        self.X = X\n",
    "        self.labels = Y\n",
    "        self.transform = transform\n",
    "        self.label_transform = label_transform\n",
    "\n",
    "\n",
    "    def __len__(self):\n",
    "        return len(self.X)\n",
    "\n",
    "    def __getitem__(self, idx):\n",
    "        sample = self.X[idx]\n",
    "        label = self.labels[idx]\n",
    "        \n",
    "        if self.transform:\n",
    "            sample = (self.transform(sample))\n",
    "\n",
    "        if self.label_transform:\n",
    "            label = np.array(label)\n",
    "            label = self.label_transform(label)\n",
    "\n",
    "        return sample, label\n",
    "\n",
    "CustomTransform = transforms.Compose([\n",
    "    transforms.ToTensor(),\n",
    "    transforms.Normalize([0.5, 0.5], [0.5, 0.5])\n",
    "])\n",
    "\n",
    "def OneHotEncoder(label):\n",
    "    return torch.nn.functional.one_hot(label, 2)\n",
    "\n",
    "trainDS = CustomDataset(x_train, y_train, CustomTransform)\n",
    "testDS = CustomDataset(x_test, y_test, CustomTransform)\n",
    "\n",
    "trainDL = DataLoader(trainDS, batch_size=32, shuffle=True)\n",
    "testDL =  DataLoader(testDS,  batch_size=32, shuffle=True)"
   ]
  },
  {
   "cell_type": "code",
   "execution_count": 6,
   "metadata": {
    "execution": {
     "iopub.execute_input": "2025-01-08T10:24:27.166646Z",
     "iopub.status.busy": "2025-01-08T10:24:27.166355Z",
     "iopub.status.idle": "2025-01-08T10:24:27.179626Z",
     "shell.execute_reply": "2025-01-08T10:24:27.178960Z",
     "shell.execute_reply.started": "2025-01-08T10:24:27.166618Z"
    }
   },
   "outputs": [],
   "source": [
    "class ConvLayerStack(nn.Module):\n",
    "\n",
    "    def __init__(self, in_c, out_c, kernel, stride, padding):\n",
    "        super().__init__()\n",
    "        self.Conv1 = nn.Conv2d(in_c, in_c//4, kernel, stride, padding)\n",
    "        # self.Conv2 = nn.Conv2D(in_c/4, in_c/4, kernel, stride, padding)\n",
    "        self.Conv3 = nn.Conv2d(in_c//4, out_c, kernel, stride, padding)\n",
    "        self.BNorm1 = nn.BatchNorm2d(in_c//4)\n",
    "        self.BNorm2 = nn.BatchNorm2d(out_c)\n",
    "        self.Relu = nn.ReLU()\n",
    "\n",
    "    def forward(self, x):\n",
    "        f = self.Conv3( self.Relu( self.BNorm1(self.Conv1(x)) ))\n",
    "        # print(f.shape)\n",
    "        return self.Relu(self.BNorm2(f + x))\n",
    "\n",
    "\n",
    "class ResNet(nn.Module):\n",
    "\n",
    "    def __init__(self):\n",
    "        super().__init__()\n",
    "        self.Conv1 = nn.Conv2d(2,64,2,2,0)\n",
    "        self.Pooling1 = nn.AvgPool2d(1,1)\n",
    "        self.Res1 = ConvLayerStack(64,64,3,1,1)\n",
    "        self.Res2 = ConvLayerStack(64,64,3,1,1)\n",
    "        self.Res3 = ConvLayerStack(64,64,3,1,1)\n",
    "        self.Res4 = ConvLayerStack(64,64,3,1,1)\n",
    "        self.Res5 = ConvLayerStack(64,64,3,1,1)\n",
    "        self.Res6 = ConvLayerStack(64,64,3,1,1)\n",
    "        self.Pooling2 = nn.AvgPool2d(2,2,0)\n",
    "        self.Lin = nn.Linear(64*8*8, 2)\n",
    "\n",
    "    def forward(self,x):\n",
    "        # print(x.shape)\n",
    "        f = self.Conv1(x)\n",
    "        # print(f.shape)\n",
    "        f = self.Pooling1(f)\n",
    "        # print(f.shape)\n",
    "        f = self.Res1(f)\n",
    "        f = self.Res2(f)\n",
    "        f = self.Res3(f)\n",
    "        f = self.Res4(f)\n",
    "        f = self.Res5(f)\n",
    "        f = self.Res6(f)\n",
    "        # print(f.shape)\n",
    "        f = self.Pooling2(f)\n",
    "        # print(f.shape)\n",
    "        f = torch.flatten(f,1)\n",
    "        # print(f.shape)\n",
    "        return self.Lin(f)\n",
    "        "
   ]
  },
  {
   "cell_type": "code",
   "execution_count": 7,
   "metadata": {
    "execution": {
     "iopub.execute_input": "2025-01-08T10:24:27.180660Z",
     "iopub.status.busy": "2025-01-08T10:24:27.180376Z",
     "iopub.status.idle": "2025-01-08T10:24:28.287230Z",
     "shell.execute_reply": "2025-01-08T10:24:28.286577Z",
     "shell.execute_reply.started": "2025-01-08T10:24:27.180633Z"
    }
   },
   "outputs": [],
   "source": [
    "from tqdm import tqdm\n",
    "import torch\n",
    "from sklearn.metrics import roc_auc_score\n",
    "import torch.nn.functional as F\n",
    "\n",
    "def Train(model, data, opti, loss_fn):\n",
    "    model.train()\n",
    "    Dsize = len(data.dataset)\n",
    "    NBatches = len(data)\n",
    "\n",
    "    loss = 0.\n",
    "    correct = 0\n",
    "    \n",
    "    for (x,y) in tqdm(data, total=NBatches):\n",
    "        x, y = x.to(\"cuda\"), y.to(\"cuda\")\n",
    "        pred = model(x)\n",
    "        loss_current = loss_fn(pred, y.long())\n",
    "\n",
    "        opti.zero_grad()\n",
    "        loss_current.backward()\n",
    "        opti.step()\n",
    "        opti.zero_grad()\n",
    "\n",
    "        loss += loss_current.item()\n",
    "        correct += (pred.argmax(1) == y.long()).type(torch.float).sum().item()\n",
    "\n",
    "    print(f\"Training Error: {1 - (correct/Dsize)}, Loss: {loss/NBatches}\")\n",
    "\n",
    "def Test(model, dataloader, criterion, device='cuda'):\n",
    "    model.eval()  # Set model to evaluation mode\n",
    "    total_loss = 0\n",
    "    total_correct = 0\n",
    "    total_samples = 0\n",
    "    all_labels = []\n",
    "    all_probs = []\n",
    "\n",
    "    with torch.no_grad():\n",
    "        for inputs, labels in dataloader:\n",
    "            inputs, labels = inputs.to(device), labels.to(device)\n",
    "            \n",
    "            # Forward pass\n",
    "            outputs = model(inputs)  # shape: (batch_size, 2)\n",
    "            loss = criterion(outputs, labels.long())\n",
    "            \n",
    "            # Accumulate loss\n",
    "            total_loss += loss.item() * inputs.size(0)\n",
    "            \n",
    "            # Predictions and accuracy\n",
    "            preds = torch.argmax(outputs, dim=1)  # Get predicted class\n",
    "            total_correct += (preds == labels.long()).sum().item()\n",
    "            total_samples += labels.size(0)\n",
    "            \n",
    "            # Compute probabilities for AUC\n",
    "            probs = F.softmax(outputs, dim=1)[:, 1]  # Probability of class 1\n",
    "            all_probs.extend(probs.cpu().numpy())\n",
    "            all_labels.extend(labels.cpu().numpy())\n",
    "\n",
    "    # Compute average loss\n",
    "    avg_loss = total_loss / total_samples\n",
    "    accuracy = total_correct / total_samples\n",
    "\n",
    "    # Compute AUC score\n",
    "    auc_score = roc_auc_score(all_labels, all_probs)\n",
    "\n",
    "    print(f\"Loss: {avg_loss:.4f}, Accuracy: {accuracy:.4f}, AUC: {auc_score:.4f}\")\n",
    "    return avg_loss, accuracy, auc_score\n",
    "        "
   ]
  },
  {
   "cell_type": "code",
   "execution_count": 8,
   "metadata": {
    "execution": {
     "iopub.execute_input": "2025-01-08T10:24:28.290006Z",
     "iopub.status.busy": "2025-01-08T10:24:28.289664Z",
     "iopub.status.idle": "2025-01-08T10:24:28.564586Z",
     "shell.execute_reply": "2025-01-08T10:24:28.563827Z",
     "shell.execute_reply.started": "2025-01-08T10:24:28.289985Z"
    }
   },
   "outputs": [],
   "source": [
    "ResNN = ResNet().to(\"cuda\")\n",
    "\n",
    "loss_fn = nn.CrossEntropyLoss()\n",
    "opti = torch.optim.RMSprop(ResNN.parameters(), lr=10e-5)"
   ]
  },
  {
   "cell_type": "code",
   "execution_count": 9,
   "metadata": {
    "execution": {
     "iopub.execute_input": "2025-01-08T10:24:28.565985Z",
     "iopub.status.busy": "2025-01-08T10:24:28.565708Z",
     "iopub.status.idle": "2025-01-08T10:24:28.570746Z",
     "shell.execute_reply": "2025-01-08T10:24:28.569814Z",
     "shell.execute_reply.started": "2025-01-08T10:24:28.565963Z"
    }
   },
   "outputs": [
    {
     "name": "stdout",
     "output_type": "stream",
     "text": [
      "ResNet(\n",
      "  (Conv1): Conv2d(2, 64, kernel_size=(2, 2), stride=(2, 2))\n",
      "  (Pooling1): AvgPool2d(kernel_size=1, stride=1, padding=0)\n",
      "  (Res1): ConvLayerStack(\n",
      "    (Conv1): Conv2d(64, 16, kernel_size=(3, 3), stride=(1, 1), padding=(1, 1))\n",
      "    (Conv3): Conv2d(16, 64, kernel_size=(3, 3), stride=(1, 1), padding=(1, 1))\n",
      "    (BNorm1): BatchNorm2d(16, eps=1e-05, momentum=0.1, affine=True, track_running_stats=True)\n",
      "    (BNorm2): BatchNorm2d(64, eps=1e-05, momentum=0.1, affine=True, track_running_stats=True)\n",
      "    (Relu): ReLU()\n",
      "  )\n",
      "  (Res2): ConvLayerStack(\n",
      "    (Conv1): Conv2d(64, 16, kernel_size=(3, 3), stride=(1, 1), padding=(1, 1))\n",
      "    (Conv3): Conv2d(16, 64, kernel_size=(3, 3), stride=(1, 1), padding=(1, 1))\n",
      "    (BNorm1): BatchNorm2d(16, eps=1e-05, momentum=0.1, affine=True, track_running_stats=True)\n",
      "    (BNorm2): BatchNorm2d(64, eps=1e-05, momentum=0.1, affine=True, track_running_stats=True)\n",
      "    (Relu): ReLU()\n",
      "  )\n",
      "  (Res3): ConvLayerStack(\n",
      "    (Conv1): Conv2d(64, 16, kernel_size=(3, 3), stride=(1, 1), padding=(1, 1))\n",
      "    (Conv3): Conv2d(16, 64, kernel_size=(3, 3), stride=(1, 1), padding=(1, 1))\n",
      "    (BNorm1): BatchNorm2d(16, eps=1e-05, momentum=0.1, affine=True, track_running_stats=True)\n",
      "    (BNorm2): BatchNorm2d(64, eps=1e-05, momentum=0.1, affine=True, track_running_stats=True)\n",
      "    (Relu): ReLU()\n",
      "  )\n",
      "  (Res4): ConvLayerStack(\n",
      "    (Conv1): Conv2d(64, 16, kernel_size=(3, 3), stride=(1, 1), padding=(1, 1))\n",
      "    (Conv3): Conv2d(16, 64, kernel_size=(3, 3), stride=(1, 1), padding=(1, 1))\n",
      "    (BNorm1): BatchNorm2d(16, eps=1e-05, momentum=0.1, affine=True, track_running_stats=True)\n",
      "    (BNorm2): BatchNorm2d(64, eps=1e-05, momentum=0.1, affine=True, track_running_stats=True)\n",
      "    (Relu): ReLU()\n",
      "  )\n",
      "  (Res5): ConvLayerStack(\n",
      "    (Conv1): Conv2d(64, 16, kernel_size=(3, 3), stride=(1, 1), padding=(1, 1))\n",
      "    (Conv3): Conv2d(16, 64, kernel_size=(3, 3), stride=(1, 1), padding=(1, 1))\n",
      "    (BNorm1): BatchNorm2d(16, eps=1e-05, momentum=0.1, affine=True, track_running_stats=True)\n",
      "    (BNorm2): BatchNorm2d(64, eps=1e-05, momentum=0.1, affine=True, track_running_stats=True)\n",
      "    (Relu): ReLU()\n",
      "  )\n",
      "  (Res6): ConvLayerStack(\n",
      "    (Conv1): Conv2d(64, 16, kernel_size=(3, 3), stride=(1, 1), padding=(1, 1))\n",
      "    (Conv3): Conv2d(16, 64, kernel_size=(3, 3), stride=(1, 1), padding=(1, 1))\n",
      "    (BNorm1): BatchNorm2d(16, eps=1e-05, momentum=0.1, affine=True, track_running_stats=True)\n",
      "    (BNorm2): BatchNorm2d(64, eps=1e-05, momentum=0.1, affine=True, track_running_stats=True)\n",
      "    (Relu): ReLU()\n",
      "  )\n",
      "  (Pooling2): AvgPool2d(kernel_size=2, stride=2, padding=0)\n",
      "  (Lin): Linear(in_features=4096, out_features=2, bias=True)\n",
      ")\n"
     ]
    }
   ],
   "source": [
    "print(ResNN)"
   ]
  },
  {
   "cell_type": "code",
   "execution_count": 10,
   "metadata": {
    "execution": {
     "iopub.execute_input": "2025-01-08T10:24:28.571666Z",
     "iopub.status.busy": "2025-01-08T10:24:28.571464Z",
     "iopub.status.idle": "2025-01-08T10:57:22.442281Z",
     "shell.execute_reply": "2025-01-08T10:57:22.441339Z",
     "shell.execute_reply.started": "2025-01-08T10:24:28.571649Z"
    }
   },
   "outputs": [
    {
     "name": "stdout",
     "output_type": "stream",
     "text": [
      "Epoch 1\n",
      "-------------------------------\n"
     ]
    },
    {
     "name": "stderr",
     "output_type": "stream",
     "text": [
      "100%|██████████| 12450/12450 [01:56<00:00, 106.51it/s]\n"
     ]
    },
    {
     "name": "stdout",
     "output_type": "stream",
     "text": [
      "Training Error: 0.37219377510040164, Loss: 0.6457581309381738\n",
      "Loss: 0.6432, Accuracy: 0.6408, AUC: 0.7087\n",
      "Epoch 2\n",
      "-------------------------------\n"
     ]
    },
    {
     "name": "stderr",
     "output_type": "stream",
     "text": [
      "100%|██████████| 12450/12450 [01:58<00:00, 105.30it/s]\n"
     ]
    },
    {
     "name": "stdout",
     "output_type": "stream",
     "text": [
      "Training Error: 0.32502259036144576, Loss: 0.60690364704314\n",
      "Loss: 0.9076, Accuracy: 0.5025, AUC: 0.4361\n",
      "Epoch 3\n",
      "-------------------------------\n"
     ]
    },
    {
     "name": "stderr",
     "output_type": "stream",
     "text": [
      "100%|██████████| 12450/12450 [01:56<00:00, 106.73it/s]\n"
     ]
    },
    {
     "name": "stdout",
     "output_type": "stream",
     "text": [
      "Training Error: 0.30807730923694776, Loss: 0.5908770514970803\n",
      "Loss: 0.6919, Accuracy: 0.5612, AUC: 0.6992\n",
      "Epoch 4\n",
      "-------------------------------\n"
     ]
    },
    {
     "name": "stderr",
     "output_type": "stream",
     "text": [
      "100%|██████████| 12450/12450 [01:56<00:00, 106.47it/s]\n"
     ]
    },
    {
     "name": "stdout",
     "output_type": "stream",
     "text": [
      "Training Error: 0.2994277108433735, Loss: 0.580972022378301\n",
      "Loss: 1.0915, Accuracy: 0.5034, AUC: 0.7150\n",
      "Epoch 5\n",
      "-------------------------------\n"
     ]
    },
    {
     "name": "stderr",
     "output_type": "stream",
     "text": [
      "100%|██████████| 12450/12450 [01:56<00:00, 106.98it/s]\n"
     ]
    },
    {
     "name": "stdout",
     "output_type": "stream",
     "text": [
      "Training Error: 0.2928539156626506, Loss: 0.5746898839918964\n",
      "Loss: 0.7369, Accuracy: 0.5507, AUC: 0.5803\n",
      "Epoch 6\n",
      "-------------------------------\n"
     ]
    },
    {
     "name": "stderr",
     "output_type": "stream",
     "text": [
      "100%|██████████| 12450/12450 [01:56<00:00, 106.72it/s]\n"
     ]
    },
    {
     "name": "stdout",
     "output_type": "stream",
     "text": [
      "Training Error: 0.28968122489959836, Loss: 0.5703486325534951\n",
      "Loss: 0.7949, Accuracy: 0.5231, AUC: 0.5697\n",
      "Epoch 7\n",
      "-------------------------------\n"
     ]
    },
    {
     "name": "stderr",
     "output_type": "stream",
     "text": [
      "100%|██████████| 12450/12450 [01:56<00:00, 106.68it/s]\n"
     ]
    },
    {
     "name": "stdout",
     "output_type": "stream",
     "text": [
      "Training Error: 0.2869151606425703, Loss: 0.5664944022463029\n",
      "Loss: 0.5691, Accuracy: 0.7093, AUC: 0.7741\n",
      "Epoch 8\n",
      "-------------------------------\n"
     ]
    },
    {
     "name": "stderr",
     "output_type": "stream",
     "text": [
      "100%|██████████| 12450/12450 [01:57<00:00, 105.70it/s]\n"
     ]
    },
    {
     "name": "stdout",
     "output_type": "stream",
     "text": [
      "Training Error: 0.2841089357429719, Loss: 0.5633357641543729\n",
      "Loss: 0.6955, Accuracy: 0.6375, AUC: 0.7627\n",
      "Epoch 9\n",
      "-------------------------------\n"
     ]
    },
    {
     "name": "stderr",
     "output_type": "stream",
     "text": [
      "100%|██████████| 12450/12450 [01:56<00:00, 106.80it/s]\n"
     ]
    },
    {
     "name": "stdout",
     "output_type": "stream",
     "text": [
      "Training Error: 0.2818825301204819, Loss: 0.5605267276677741\n",
      "Loss: 0.7796, Accuracy: 0.5312, AUC: 0.6553\n",
      "Epoch 10\n",
      "-------------------------------\n"
     ]
    },
    {
     "name": "stderr",
     "output_type": "stream",
     "text": [
      "100%|██████████| 12450/12450 [01:56<00:00, 107.19it/s]\n"
     ]
    },
    {
     "name": "stdout",
     "output_type": "stream",
     "text": [
      "Training Error: 0.28000251004016063, Loss: 0.5579341446515547\n",
      "Loss: 0.5800, Accuracy: 0.7016, AUC: 0.7732\n",
      "Epoch 11\n",
      "-------------------------------\n"
     ]
    },
    {
     "name": "stderr",
     "output_type": "stream",
     "text": [
      "100%|██████████| 12450/12450 [01:56<00:00, 106.53it/s]\n"
     ]
    },
    {
     "name": "stdout",
     "output_type": "stream",
     "text": [
      "Training Error: 0.27760291164658635, Loss: 0.555534788425189\n",
      "Loss: 0.6029, Accuracy: 0.6896, AUC: 0.7659\n",
      "Epoch 12\n",
      "-------------------------------\n"
     ]
    },
    {
     "name": "stderr",
     "output_type": "stream",
     "text": [
      "100%|██████████| 12450/12450 [01:56<00:00, 106.42it/s]\n"
     ]
    },
    {
     "name": "stdout",
     "output_type": "stream",
     "text": [
      "Training Error: 0.2765537148594378, Loss: 0.553230962341569\n",
      "Loss: 0.6313, Accuracy: 0.6394, AUC: 0.7474\n",
      "Epoch 13\n",
      "-------------------------------\n"
     ]
    },
    {
     "name": "stderr",
     "output_type": "stream",
     "text": [
      "100%|██████████| 12450/12450 [01:56<00:00, 106.61it/s]\n"
     ]
    },
    {
     "name": "stdout",
     "output_type": "stream",
     "text": [
      "Training Error: 0.2750778112449799, Loss: 0.5506373483517084\n",
      "Loss: 0.6729, Accuracy: 0.6505, AUC: 0.7522\n",
      "Epoch 14\n",
      "-------------------------------\n"
     ]
    },
    {
     "name": "stderr",
     "output_type": "stream",
     "text": [
      "100%|██████████| 12450/12450 [01:56<00:00, 106.99it/s]\n"
     ]
    },
    {
     "name": "stdout",
     "output_type": "stream",
     "text": [
      "Training Error: 0.27329568273092375, Loss: 0.5484840680413456\n",
      "Loss: 0.6502, Accuracy: 0.6702, AUC: 0.7667\n",
      "Epoch 15\n",
      "-------------------------------\n"
     ]
    },
    {
     "name": "stderr",
     "output_type": "stream",
     "text": [
      "100%|██████████| 12450/12450 [01:56<00:00, 106.77it/s]\n"
     ]
    },
    {
     "name": "stdout",
     "output_type": "stream",
     "text": [
      "Training Error: 0.27080572289156624, Loss: 0.5461049442382223\n",
      "Loss: 0.5734, Accuracy: 0.7069, AUC: 0.7788\n"
     ]
    }
   ],
   "source": [
    "epochs = 15\n",
    "max_acc = 0\n",
    "\n",
    "for epoch in range(epochs):\n",
    "    print(f\"Epoch {epoch+1}\\n-------------------------------\")\n",
    "    Train(ResNN, trainDL, opti, loss_fn,)\n",
    "    a, cur_acc, b = Test(ResNN, testDL, loss_fn)\n",
    "    if cur_acc >= max_acc:\n",
    "        filename = \"BestModel.pth\"\n",
    "        torch.save(ResNN, filename)\n",
    "        max_acc = cur_acc"
   ]
  },
  {
   "cell_type": "code",
   "execution_count": 11,
   "metadata": {
    "execution": {
     "iopub.execute_input": "2025-01-08T10:57:22.443563Z",
     "iopub.status.busy": "2025-01-08T10:57:22.443230Z",
     "iopub.status.idle": "2025-01-08T10:57:22.448662Z",
     "shell.execute_reply": "2025-01-08T10:57:22.447985Z",
     "shell.execute_reply.started": "2025-01-08T10:57:22.443531Z"
    }
   },
   "outputs": [
    {
     "data": {
      "text/plain": [
       "0.7092771084337349"
      ]
     },
     "execution_count": 11,
     "metadata": {},
     "output_type": "execute_result"
    }
   ],
   "source": [
    "max_acc"
   ]
  },
  {
   "cell_type": "code",
   "execution_count": 12,
   "metadata": {
    "execution": {
     "iopub.execute_input": "2025-01-08T10:57:22.449767Z",
     "iopub.status.busy": "2025-01-08T10:57:22.449514Z",
     "iopub.status.idle": "2025-01-08T10:57:22.465218Z",
     "shell.execute_reply": "2025-01-08T10:57:22.464452Z",
     "shell.execute_reply.started": "2025-01-08T10:57:22.449735Z"
    }
   },
   "outputs": [],
   "source": [
    "opti = torch.optim.RMSprop(ResNN.parameters(), lr=10e-8)"
   ]
  },
  {
   "cell_type": "code",
   "execution_count": 13,
   "metadata": {
    "execution": {
     "iopub.execute_input": "2025-01-08T10:57:22.466363Z",
     "iopub.status.busy": "2025-01-08T10:57:22.466092Z",
     "iopub.status.idle": "2025-01-08T11:30:28.194411Z",
     "shell.execute_reply": "2025-01-08T11:30:28.193471Z",
     "shell.execute_reply.started": "2025-01-08T10:57:22.466334Z"
    }
   },
   "outputs": [
    {
     "name": "stdout",
     "output_type": "stream",
     "text": [
      "Epoch 1\n",
      "-------------------------------\n"
     ]
    },
    {
     "name": "stderr",
     "output_type": "stream",
     "text": [
      "100%|██████████| 12450/12450 [01:56<00:00, 106.54it/s]\n"
     ]
    },
    {
     "name": "stdout",
     "output_type": "stream",
     "text": [
      "Training Error: 0.2644126506024096, Loss: 0.535971604171527\n",
      "Loss: 0.5567, Accuracy: 0.7206, AUC: 0.7866\n",
      "Epoch 2\n",
      "-------------------------------\n"
     ]
    },
    {
     "name": "stderr",
     "output_type": "stream",
     "text": [
      "100%|██████████| 12450/12450 [01:56<00:00, 106.63it/s]\n"
     ]
    },
    {
     "name": "stdout",
     "output_type": "stream",
     "text": [
      "Training Error: 0.2632856425702811, Loss: 0.5347254251691711\n",
      "Loss: 0.5559, Accuracy: 0.7210, AUC: 0.7873\n",
      "Epoch 3\n",
      "-------------------------------\n"
     ]
    },
    {
     "name": "stderr",
     "output_type": "stream",
     "text": [
      "100%|██████████| 12450/12450 [01:57<00:00, 106.06it/s]\n"
     ]
    },
    {
     "name": "stdout",
     "output_type": "stream",
     "text": [
      "Training Error: 0.2629041164658634, Loss: 0.5339243691824527\n",
      "Loss: 0.5555, Accuracy: 0.7216, AUC: 0.7876\n",
      "Epoch 4\n",
      "-------------------------------\n"
     ]
    },
    {
     "name": "stderr",
     "output_type": "stream",
     "text": [
      "100%|██████████| 12450/12450 [01:57<00:00, 106.17it/s]\n"
     ]
    },
    {
     "name": "stdout",
     "output_type": "stream",
     "text": [
      "Training Error: 0.26221636546184734, Loss: 0.5333420130047932\n",
      "Loss: 0.5553, Accuracy: 0.7218, AUC: 0.7880\n",
      "Epoch 5\n",
      "-------------------------------\n"
     ]
    },
    {
     "name": "stderr",
     "output_type": "stream",
     "text": [
      "100%|██████████| 12450/12450 [01:56<00:00, 106.65it/s]\n"
     ]
    },
    {
     "name": "stdout",
     "output_type": "stream",
     "text": [
      "Training Error: 0.2617319277108434, Loss: 0.5327057024525351\n",
      "Loss: 0.5550, Accuracy: 0.7220, AUC: 0.7882\n",
      "Epoch 6\n",
      "-------------------------------\n"
     ]
    },
    {
     "name": "stderr",
     "output_type": "stream",
     "text": [
      "100%|██████████| 12450/12450 [01:56<00:00, 106.67it/s]\n"
     ]
    },
    {
     "name": "stdout",
     "output_type": "stream",
     "text": [
      "Training Error: 0.2617921686746988, Loss: 0.5323366700525743\n",
      "Loss: 0.5549, Accuracy: 0.7224, AUC: 0.7884\n",
      "Epoch 7\n",
      "-------------------------------\n"
     ]
    },
    {
     "name": "stderr",
     "output_type": "stream",
     "text": [
      "100%|██████████| 12450/12450 [01:56<00:00, 106.68it/s]\n"
     ]
    },
    {
     "name": "stdout",
     "output_type": "stream",
     "text": [
      "Training Error: 0.2613780120481928, Loss: 0.5319379787488157\n",
      "Loss: 0.5552, Accuracy: 0.7220, AUC: 0.7885\n",
      "Epoch 8\n",
      "-------------------------------\n"
     ]
    },
    {
     "name": "stderr",
     "output_type": "stream",
     "text": [
      "100%|██████████| 12450/12450 [01:56<00:00, 106.58it/s]\n"
     ]
    },
    {
     "name": "stdout",
     "output_type": "stream",
     "text": [
      "Training Error: 0.26094126506024096, Loss: 0.5316177928543474\n",
      "Loss: 0.5548, Accuracy: 0.7225, AUC: 0.7887\n",
      "Epoch 9\n",
      "-------------------------------\n"
     ]
    },
    {
     "name": "stderr",
     "output_type": "stream",
     "text": [
      "100%|██████████| 12450/12450 [01:57<00:00, 105.56it/s]\n"
     ]
    },
    {
     "name": "stdout",
     "output_type": "stream",
     "text": [
      "Training Error: 0.26072038152610444, Loss: 0.5313074802466664\n",
      "Loss: 0.5546, Accuracy: 0.7228, AUC: 0.7887\n",
      "Epoch 10\n",
      "-------------------------------\n"
     ]
    },
    {
     "name": "stderr",
     "output_type": "stream",
     "text": [
      "100%|██████████| 12450/12450 [01:57<00:00, 106.33it/s]\n"
     ]
    },
    {
     "name": "stdout",
     "output_type": "stream",
     "text": [
      "Training Error: 0.26104919678714855, Loss: 0.531145396081798\n",
      "Loss: 0.5547, Accuracy: 0.7227, AUC: 0.7889\n",
      "Epoch 11\n",
      "-------------------------------\n"
     ]
    },
    {
     "name": "stderr",
     "output_type": "stream",
     "text": [
      "100%|██████████| 12450/12450 [01:56<00:00, 106.88it/s]\n"
     ]
    },
    {
     "name": "stdout",
     "output_type": "stream",
     "text": [
      "Training Error: 0.2604518072289157, Loss: 0.5307410216259669\n",
      "Loss: 0.5544, Accuracy: 0.7228, AUC: 0.7889\n",
      "Epoch 12\n",
      "-------------------------------\n"
     ]
    },
    {
     "name": "stderr",
     "output_type": "stream",
     "text": [
      "100%|██████████| 12450/12450 [01:56<00:00, 106.63it/s]\n"
     ]
    },
    {
     "name": "stdout",
     "output_type": "stream",
     "text": [
      "Training Error: 0.2605145582329317, Loss: 0.5303683796082156\n",
      "Loss: 0.5543, Accuracy: 0.7227, AUC: 0.7890\n",
      "Epoch 13\n",
      "-------------------------------\n"
     ]
    },
    {
     "name": "stderr",
     "output_type": "stream",
     "text": [
      "100%|██████████| 12450/12450 [01:58<00:00, 104.68it/s]\n"
     ]
    },
    {
     "name": "stdout",
     "output_type": "stream",
     "text": [
      "Training Error: 0.2603187751004016, Loss: 0.5302947604057779\n",
      "Loss: 0.5546, Accuracy: 0.7230, AUC: 0.7891\n",
      "Epoch 14\n",
      "-------------------------------\n"
     ]
    },
    {
     "name": "stderr",
     "output_type": "stream",
     "text": [
      "100%|██████████| 12450/12450 [01:59<00:00, 103.88it/s]\n"
     ]
    },
    {
     "name": "stdout",
     "output_type": "stream",
     "text": [
      "Training Error: 0.259894578313253, Loss: 0.5301153304897638\n",
      "Loss: 0.5542, Accuracy: 0.7229, AUC: 0.7891\n",
      "Epoch 15\n",
      "-------------------------------\n"
     ]
    },
    {
     "name": "stderr",
     "output_type": "stream",
     "text": [
      "100%|██████████| 12450/12450 [02:00<00:00, 103.51it/s]\n"
     ]
    },
    {
     "name": "stdout",
     "output_type": "stream",
     "text": [
      "Training Error: 0.26010040160642567, Loss: 0.5301257873132047\n",
      "Loss: 0.5544, Accuracy: 0.7231, AUC: 0.7891\n"
     ]
    }
   ],
   "source": [
    "for epoch in range(epochs):\n",
    "    print(f\"Epoch {epoch+1}\\n-------------------------------\")\n",
    "    Train(ResNN, trainDL, opti, loss_fn,)\n",
    "    a, cur_acc, b = Test(ResNN, testDL, loss_fn)\n",
    "    if cur_acc >= max_acc:\n",
    "        filename = \"BestModel.pth\"\n",
    "        torch.save(ResNN, filename)\n",
    "        max_acc = cur_acc"
   ]
  },
  {
   "cell_type": "code",
   "execution_count": 14,
   "metadata": {
    "execution": {
     "iopub.execute_input": "2025-01-08T11:30:28.195608Z",
     "iopub.status.busy": "2025-01-08T11:30:28.195346Z",
     "iopub.status.idle": "2025-01-08T11:30:28.200327Z",
     "shell.execute_reply": "2025-01-08T11:30:28.199497Z",
     "shell.execute_reply.started": "2025-01-08T11:30:28.195585Z"
    }
   },
   "outputs": [
    {
     "data": {
      "text/plain": [
       "0.7230722891566265"
      ]
     },
     "execution_count": 14,
     "metadata": {},
     "output_type": "execute_result"
    }
   ],
   "source": [
    "max_acc"
   ]
  },
  {
   "cell_type": "markdown",
   "metadata": {},
   "source": [
    "# Final result:\n",
    "We obtain:\n",
    "Best *Validation* accuracy: *0.7238*<br>\n",
    "Best *Traning* accuracy: *0.7439*<br>\n",
    "Best *AUC* Score is: *0.7887*<br>\n"
   ]
  },
  {
   "cell_type": "code",
   "execution_count": 16,
   "metadata": {
    "execution": {
     "iopub.execute_input": "2025-01-08T11:30:46.566906Z",
     "iopub.status.busy": "2025-01-08T11:30:46.566583Z",
     "iopub.status.idle": "2025-01-08T11:30:46.571197Z",
     "shell.execute_reply": "2025-01-08T11:30:46.570259Z",
     "shell.execute_reply.started": "2025-01-08T11:30:46.566878Z"
    }
   },
   "outputs": [],
   "source": [
    "opti = torch.optim.Adam(ResNN.parameters(), lr=10e-9)"
   ]
  },
  {
   "cell_type": "code",
   "execution_count": null,
   "metadata": {},
   "outputs": [
    {
     "name": "stdout",
     "output_type": "stream",
     "text": [
      "Epoch 1\n",
      "-------------------------------\n"
     ]
    },
    {
     "name": "stderr",
     "output_type": "stream",
     "text": [
      "100%|██████████| 12450/12450 [02:02<00:00, 101.46it/s]\n"
     ]
    },
    {
     "name": "stdout",
     "output_type": "stream",
     "text": [
      "Training Error: 0.2600225903614458, Loss: 0.5298766680462772\n",
      "Loss: 0.5542, Accuracy: 0.7230, AUC: 0.7892\n",
      "Epoch 2\n",
      "-------------------------------\n"
     ]
    },
    {
     "name": "stderr",
     "output_type": "stream",
     "text": [
      "100%|██████████| 12450/12450 [02:01<00:00, 102.26it/s]\n"
     ]
    },
    {
     "name": "stdout",
     "output_type": "stream",
     "text": [
      "Training Error: 0.2599748995983936, Loss: 0.5297630134667738\n",
      "Loss: 0.5543, Accuracy: 0.7228, AUC: 0.7892\n",
      "Epoch 3\n",
      "-------------------------------\n"
     ]
    },
    {
     "name": "stderr",
     "output_type": "stream",
     "text": [
      "100%|██████████| 12450/12450 [02:01<00:00, 102.59it/s]\n"
     ]
    },
    {
     "name": "stdout",
     "output_type": "stream",
     "text": [
      "Training Error: 0.25985441767068274, Loss: 0.5299530352861527\n",
      "Loss: 0.5544, Accuracy: 0.7229, AUC: 0.7892\n",
      "Epoch 4\n",
      "-------------------------------\n"
     ]
    },
    {
     "name": "stderr",
     "output_type": "stream",
     "text": [
      "100%|██████████| 12450/12450 [02:01<00:00, 102.58it/s]\n"
     ]
    },
    {
     "name": "stdout",
     "output_type": "stream",
     "text": [
      "Training Error: 0.2599146586345381, Loss: 0.5297417350729785\n",
      "Loss: 0.5545, Accuracy: 0.7231, AUC: 0.7893\n",
      "Epoch 5\n",
      "-------------------------------\n"
     ]
    },
    {
     "name": "stderr",
     "output_type": "stream",
     "text": [
      "100%|██████████| 12450/12450 [02:00<00:00, 103.08it/s]\n"
     ]
    },
    {
     "name": "stdout",
     "output_type": "stream",
     "text": [
      "Training Error: 0.25998493975903614, Loss: 0.5298427831480302\n",
      "Loss: 0.5543, Accuracy: 0.7230, AUC: 0.7892\n",
      "Epoch 6\n",
      "-------------------------------\n"
     ]
    },
    {
     "name": "stderr",
     "output_type": "stream",
     "text": [
      "100%|██████████| 12450/12450 [02:00<00:00, 103.11it/s]\n"
     ]
    },
    {
     "name": "stdout",
     "output_type": "stream",
     "text": [
      "Training Error: 0.2598694779116466, Loss: 0.5297961108224938\n",
      "Loss: 0.5543, Accuracy: 0.7231, AUC: 0.7892\n",
      "Epoch 7\n",
      "-------------------------------\n"
     ]
    },
    {
     "name": "stderr",
     "output_type": "stream",
     "text": [
      "100%|██████████| 12450/12450 [02:00<00:00, 103.50it/s]\n"
     ]
    },
    {
     "name": "stdout",
     "output_type": "stream",
     "text": [
      "Training Error: 0.25962098393574295, Loss: 0.5296393323471269\n",
      "Loss: 0.5542, Accuracy: 0.7228, AUC: 0.7893\n",
      "Epoch 8\n",
      "-------------------------------\n"
     ]
    },
    {
     "name": "stderr",
     "output_type": "stream",
     "text": [
      " 69%|██████▉   | 8583/12450 [01:20<00:35, 107.42it/s]"
     ]
    }
   ],
   "source": [
    "for epoch in range(epochs):\n",
    "    print(f\"Epoch {epoch+1}\\n-------------------------------\")\n",
    "    Train(ResNN, trainDL, opti, loss_fn,)\n",
    "    a, cur_acc, b = Test(ResNN, testDL, loss_fn)\n",
    "    if cur_acc >= max_acc:\n",
    "        filename = \"BestModel.pth\"\n",
    "        torch.save(ResNN, filename)\n",
    "        max_acc = cur_acc"
   ]
  }
 ],
 "metadata": {
  "kaggle": {
   "accelerator": "gpu",
   "dataSources": [
    {
     "datasetId": 6394820,
     "sourceId": 10327874,
     "sourceType": "datasetVersion"
    }
   ],
   "dockerImageVersionId": 30823,
   "isGpuEnabled": true,
   "isInternetEnabled": true,
   "language": "python",
   "sourceType": "notebook"
  },
  "kernelspec": {
   "display_name": "Python 3 (ipykernel)",
   "language": "python",
   "name": "python3"
  },
  "language_info": {
   "codemirror_mode": {
    "name": "ipython",
    "version": 3
   },
   "file_extension": ".py",
   "mimetype": "text/x-python",
   "name": "python",
   "nbconvert_exporter": "python",
   "pygments_lexer": "ipython3",
   "version": "3.12.7"
  }
 },
 "nbformat": 4,
 "nbformat_minor": 4
}
